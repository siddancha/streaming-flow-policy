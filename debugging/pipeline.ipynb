{
 "cells": [
  {
   "cell_type": "code",
   "execution_count": 1,
   "id": "535bab28",
   "metadata": {},
   "outputs": [],
   "source": [
    "%load_ext autoreload\n",
    "%autoreload 2\n",
    "import os\n",
    "import numpy as np\n",
    "import matplotlib.pyplot as plt\n",
    "from torch.utils.data import DataLoader\n",
    "from omegaconf import OmegaConf\n",
    "import hydra\n",
    "import torch"
   ]
  },
  {
   "cell_type": "code",
   "execution_count": 2,
   "id": "ea6dad49",
   "metadata": {},
   "outputs": [
    {
     "name": "stderr",
     "output_type": "stream",
     "text": [
      "/home/sfp/miniforge3/envs/robodiff2/lib/python3.9/site-packages/torchvision/io/image.py:13: UserWarning: Failed to load image Python extension: libtorch_cuda_cu.so: cannot open shared object file: No such file or directory\n",
      "  warn(f\"Failed to load image Python extension: {e}\")\n"
     ]
    }
   ],
   "source": [
    "os.chdir('/home/sfp/streaming-flow-policy')\n",
    "from diffusion_policy.dataset.franka_image_dataset import FrankaPickImageDataset\n",
    "from diffusion_policy.policy.sfp_unet_hybrid_image_policy import SFPUnetHybridImagePolicy\n",
    "from diffusion_policy.common.pytorch_util import dict_apply"
   ]
  },
  {
   "cell_type": "code",
   "execution_count": 3,
   "id": "f094730b",
   "metadata": {},
   "outputs": [
    {
     "name": "stdout",
     "output_type": "stream",
     "text": [
      "Loading FrankaImageDataset from data/pushy_v3.zarr\n"
     ]
    }
   ],
   "source": [
    "dataset = FrankaPickImageDataset(\n",
    "    horizon=17,\n",
    "    max_train_episodes=90,\n",
    "    pad_after=7,\n",
    "    pad_before=1,\n",
    "    seed=42,\n",
    "    val_ratio=0.02,\n",
    "    zarr_path='data/pushy_v3.zarr', #v3\n",
    "    two_images=True\n",
    "    )\n",
    "train_dataloader = DataLoader(\n",
    "    dataset, \n",
    "    batch_size=108,\n",
    "    num_workers=8,\n",
    "    persistent_workers=False,\n",
    "    pin_memory=True,\n",
    "    shuffle=True\n",
    "    )\n",
    "normalizer = dataset.get_normalizer()"
   ]
  },
  {
   "cell_type": "code",
   "execution_count": 4,
   "id": "b44b4b75",
   "metadata": {},
   "outputs": [],
   "source": [
    "cfg = OmegaConf.load(\"diffusion_policy/config/franka_sfp_image_pushy_2camera.yaml\")\n",
    "# cfg = OmegaConf.load(\"diffusion_policy/config/franka_sfp_image_pushy.yaml\")"
   ]
  },
  {
   "cell_type": "code",
   "execution_count": 5,
   "id": "be6342ff",
   "metadata": {},
   "outputs": [
    {
     "name": "stdout",
     "output_type": "stream",
     "text": [
      "\n",
      "============= Initialized Observation Utils with Obs Spec =============\n",
      "\n",
      "using obs modality: low_dim with keys: ['agent_pos']\n",
      "using obs modality: rgb with keys: ['image', 'image2']\n",
      "using obs modality: depth with keys: []\n",
      "using obs modality: scan with keys: []\n"
     ]
    },
    {
     "name": "stderr",
     "output_type": "stream",
     "text": [
      "/home/sfp/miniforge3/envs/robodiff2/lib/python3.9/site-packages/torchvision/models/_utils.py:208: UserWarning: The parameter 'pretrained' is deprecated since 0.13 and will be removed in 0.15, please use 'weights' instead.\n",
      "  warnings.warn(\n",
      "/home/sfp/miniforge3/envs/robodiff2/lib/python3.9/site-packages/torchvision/models/_utils.py:223: UserWarning: Arguments other than a weight enum or `None` for 'weights' are deprecated since 0.13 and will be removed in 0.15. The current behavior is equivalent to passing `weights=None`.\n",
      "  warnings.warn(msg)\n"
     ]
    },
    {
     "name": "stdout",
     "output_type": "stream",
     "text": [
      "---------- Model Original -------------------\n",
      "self.horizon 16\n",
      "use_action_traj True\n",
      "t span tensor([0.0000, 0.0625, 0.1250, 0.1875, 0.2500, 0.3125, 0.3750, 0.4375, 0.5000])\n",
      "np.arange 0 8 1\n",
      "select_action_indices [0 1 2 3 4 5 6 7]\n"
     ]
    }
   ],
   "source": [
    "model: SFPUnetHybridImagePolicy = hydra.utils.instantiate(cfg.policy)\n",
    "model.set_normalizer(normalizer)"
   ]
  },
  {
   "cell_type": "code",
   "execution_count": 6,
   "id": "23e05acd",
   "metadata": {},
   "outputs": [],
   "source": [
    "obs_encoder = model.obs_encoder"
   ]
  },
  {
   "cell_type": "code",
   "execution_count": 7,
   "id": "39898a87",
   "metadata": {},
   "outputs": [],
   "source": [
    "for batch in train_dataloader:\n",
    "    break"
   ]
  },
  {
   "cell_type": "code",
   "execution_count": 8,
   "id": "bc9110fe",
   "metadata": {},
   "outputs": [
    {
     "data": {
      "text/plain": [
       "torch.Size([216, 74])"
      ]
     },
     "execution_count": 8,
     "metadata": {},
     "output_type": "execute_result"
    }
   ],
   "source": [
    "nobs = model.normalizer.normalize(batch['obs'])\n",
    "this_nobs = dict_apply(nobs, \n",
    "            lambda x: x[:,:model.n_obs_steps,...].reshape(-1,*x.shape[2:]))\n",
    "obs_encoder(this_nobs).shape"
   ]
  },
  {
   "cell_type": "code",
   "execution_count": 9,
   "id": "2b2c87bf",
   "metadata": {},
   "outputs": [
    {
     "data": {
      "text/plain": [
       "[74]"
      ]
     },
     "execution_count": 9,
     "metadata": {},
     "output_type": "execute_result"
    }
   ],
   "source": [
    "obs_encoder.output_shape()"
   ]
  },
  {
   "cell_type": "code",
   "execution_count": null,
   "id": "46cd895a",
   "metadata": {},
   "outputs": [
    {
     "name": "stdout",
     "output_type": "stream",
     "text": [
      "obs\n",
      "action\n",
      "---\n",
      "image\n",
      "agent_pos\n"
     ]
    }
   ],
   "source": [
    "for k in batch:\n",
    "    print(k)\n",
    "print('---')\n",
    "for k in batch['obs']:\n",
    "    print(k)\n",
    "print(batch['obs']['image'].shape)"
   ]
  },
  {
   "cell_type": "code",
   "execution_count": null,
   "id": "0536d328",
   "metadata": {},
   "outputs": [
    {
     "data": {
      "text/plain": [
       "tensor(0.2781, grad_fn=<MseLossBackward0>)"
      ]
     },
     "execution_count": 10,
     "metadata": {},
     "output_type": "execute_result"
    },
    {
     "ename": "",
     "evalue": "",
     "output_type": "error",
     "traceback": [
      "\u001b[1;31mThe Kernel crashed while executing code in the current cell or a previous cell. \n",
      "\u001b[1;31mPlease review the code in the cell(s) to identify a possible cause of the failure. \n",
      "\u001b[1;31mClick <a href='https://aka.ms/vscodeJupyterKernelCrash'>here</a> for more info. \n",
      "\u001b[1;31mView Jupyter <a href='command:jupyter.viewOutput'>log</a> for further details."
     ]
    }
   ],
   "source": [
    "model.compute_loss(batch, x_t_sigma=0.3)"
   ]
  }
 ],
 "metadata": {
  "kernelspec": {
   "display_name": "robodiff2",
   "language": "python",
   "name": "python3"
  },
  "language_info": {
   "codemirror_mode": {
    "name": "ipython",
    "version": 3
   },
   "file_extension": ".py",
   "mimetype": "text/x-python",
   "name": "python",
   "nbconvert_exporter": "python",
   "pygments_lexer": "ipython3",
   "version": "3.9.15"
  }
 },
 "nbformat": 4,
 "nbformat_minor": 5
}
