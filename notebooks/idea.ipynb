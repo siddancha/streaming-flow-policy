{
 "cells": [
  {
   "cell_type": "code",
   "execution_count": null,
   "metadata": {},
   "outputs": [],
   "source": [
    "import dataclasses as dc\n",
    "import matplotlib.pyplot as plt\n",
    "import numpy as np\n",
    "import torch\n",
    "from torch import Tensor\n",
    "import torch.nn.functional as F\n",
    "from typing import Tuple"
   ]
  },
  {
   "cell_type": "code",
   "execution_count": null,
   "metadata": {},
   "outputs": [],
   "source": [
    "@dc.dataclass\n",
    "class Trajectory:\n",
    "    \"\"\"\n",
    "    x: Lies in [-1, 1]\n",
    "    t: Lies in [ 0, 1]. The start time is always 0 and  end time is always 1.\n",
    "    \"\"\"\n",
    "    x: Tensor  # dtype=float, shape=(N,)\n",
    "    t: Tensor  # dtype=float, shape=(N,)"
   ]
  },
  {
   "cell_type": "code",
   "execution_count": null,
   "metadata": {},
   "outputs": [],
   "source": [
    "def CubicHermiteInterpolation(\n",
    "    seed_trajectory: Trajectory,\n",
    "    initial_slope: float = None,\n",
    "    final_slope: float = None,\n",
    "    initial_double_derivative: float = None,\n",
    "    final_double_derivative: float = None,\n",
    "    num_points: int = 100,\n",
    ") -> Trajectory:\n",
    "    \"\"\"\n",
    "    Cubic Hermite interpolation.\n",
    "    Copied and modified from https://stackoverflow.com/a/64872885/1814274\n",
    "    \"\"\"\n",
    "    def hermite_polynomial(t):\n",
    "        t_powers = t[None, :] ** torch.arange(4, device=t.device)[:, None]\n",
    "        coefficient_matrix = torch.tensor([\n",
    "            [1, 0, -3,  2],\n",
    "            [0, 1, -2,  1],\n",
    "            [0, 0,  3, -2],\n",
    "            [0, 0, -1,  1],\n",
    "        ], dtype=t.dtype, device=t.device)\n",
    "        return coefficient_matrix @ t_powers\n",
    "\n",
    "    seed_x, seed_t = seed_trajectory.x, seed_trajectory.t\n",
    "    interpolated_t = torch.linspace(seed_trajectory.t[0], seed_trajectory.t[-1], num_points)\n",
    "    slopes = (seed_x[1:] - seed_x[:-1]) / (seed_t[1:] - seed_t[:-1])\n",
    "    \n",
    "    if initial_slope is not None:\n",
    "        slopes = torch.cat([torch.tensor([initial_slope], device=slopes.device), (slopes[1:] + slopes[:-1]) / 2, slopes[[-1]]])\n",
    "    else:\n",
    "        slopes = torch.cat([slopes[[0]], (slopes[1:] + slopes[:-1]) / 2, slopes[[-1]]])\n",
    "    \n",
    "    if final_slope is not None:\n",
    "        slopes[-1] = final_slope\n",
    "\n",
    "    if initial_double_derivative is not None:\n",
    "        slopes[0] = initial_double_derivative * (seed_t[1] - seed_t[0]) / 2 + slopes[0]\n",
    "    \n",
    "    if final_double_derivative is not None:\n",
    "        slopes[-1] = final_double_derivative * (seed_t[-1] - seed_t[-2]) / 2 + slopes[-1]\n",
    "\n",
    "    indices = torch.searchsorted(seed_t[1:], interpolated_t)\n",
    "    Δt = (seed_t[indices + 1] - seed_t[indices])\n",
    "    hermite_values = hermite_polynomial((interpolated_t - seed_t[indices]) / Δt)\n",
    "    interpolated_x = (\n",
    "        hermite_values[0] * seed_x[indices + 0] + \n",
    "        hermite_values[1] * slopes[indices + 0] * Δt + \n",
    "        hermite_values[2] * seed_x[indices + 1] + \n",
    "        hermite_values[3] * slopes[indices + 1] * Δt\n",
    "    )\n",
    "    return Trajectory(interpolated_x, interpolated_t)\n",
    "\n",
    "def JoinTrajectories(traj1: Trajectory, traj2: Trajectory) -> Trajectory:\n",
    "    \"\"\"\n",
    "    Concatenate two trajectories.\n",
    "    \"\"\"\n",
    "    x = torch.cat([torch.tensor(traj1.x), torch.tensor(traj2.x)])\n",
    "    t = torch.cat([torch.tensor(traj1.t), torch.tensor(traj2.t)])\n",
    "    return Trajectory(x=x, t=t)"
   ]
  },
  {
   "cell_type": "code",
   "execution_count": 278,
   "metadata": {},
   "outputs": [],
   "source": [
    "def demonstration_traj_right() -> Trajectory:\n",
    "    \"\"\"\n",
    "    Returns a trajectory x(t) that is 0 for 0 < t < 0.25, and a sine curve\n",
    "    for 0.25 < t < 1 that starts at 0 and ends at 0.75.\n",
    "    \"\"\"\n",
    "    piece_1 = Trajectory(x=torch.zeros(25), t=torch.linspace(0, 0.25, 25))\n",
    "    piece_2 = CubicHermiteInterpolation(\n",
    "        Trajectory(\n",
    "            x=torch.tensor([0.00, 0.62, 0.75, 0.5]),\n",
    "            t=torch.tensor([0.25, 0.50, 0.75, 1.0])\n",
    "        ),\n",
    "        initial_slope=0.0,\n",
    "        initial_double_derivative=0.0,\n",
    "        final_slope=-1,\n",
    "        final_double_derivative=0.0,\n",
    "    )\n",
    "    return JoinTrajectories(piece_1, piece_2)\n",
    "\n",
    "def demonstration_traj_left() -> Trajectory:\n",
    "    \"\"\"\n",
    "    Returns a trajectory x(t) that is 0 for 0 < t < 0.25, and a sine curve\n",
    "    for 0.25 < t < 1 that starts at 0 and ends at 0.75.\n",
    "    \"\"\"\n",
    "    piece_1 = Trajectory(x=torch.zeros(25), t=torch.linspace(0, 0.25, 25))\n",
    "    piece_2 = CubicHermiteInterpolation(\n",
    "        Trajectory(\n",
    "            x=torch.tensor([0.00, -0.62, -0.75, -0.5]),\n",
    "            t=torch.tensor([0.25,  0.50,  0.75,  1.0])\n",
    "        ),\n",
    "        initial_slope=0.0,\n",
    "        initial_double_derivative=0.0,\n",
    "        final_slope=1,\n",
    "        final_double_derivative=0.0,\n",
    "    )\n",
    "    return JoinTrajectories(piece_1, piece_2)"
   ]
  },
  {
   "cell_type": "code",
   "execution_count": 279,
   "metadata": {},
   "outputs": [
    {
     "name": "stderr",
     "output_type": "stream",
     "text": [
      "/tmp/ipykernel_289898/1616676832.py:54: UserWarning: To copy construct from a tensor, it is recommended to use sourceTensor.clone().detach() or sourceTensor.clone().detach().requires_grad_(True), rather than torch.tensor(sourceTensor).\n",
      "  x = torch.cat([torch.tensor(traj1.x), torch.tensor(traj2.x)])\n",
      "/tmp/ipykernel_289898/1616676832.py:55: UserWarning: To copy construct from a tensor, it is recommended to use sourceTensor.clone().detach() or sourceTensor.clone().detach().requires_grad_(True), rather than torch.tensor(sourceTensor).\n",
      "  t = torch.cat([torch.tensor(traj1.t), torch.tensor(traj2.t)])\n"
     ]
    },
    {
     "data": {
      "image/png": "[encoded data removed]",
      "text/plain": [
       "<Figure size 640x480 with 1 Axes>"
      ]
     },
     "metadata": {},
     "output_type": "display_data"
    }
   ],
   "source": [
    "\"\"\"\n",
    "Plot demonstration trajectory on x-y plane where x axis is the state in [-1, 1]\n",
    "and y axis is the time in [0, 1].\n",
    "\"\"\"\n",
    "traj_right = demonstration_traj_right()\n",
    "traj_left = demonstration_traj_left()\n",
    "plt.plot(traj_right.x, traj_right.t, color='blue', alpha=0.9)\n",
    "plt.plot(traj_left.x, traj_left.t, color='red', alpha=0.9)\n",
    "plt.xlim(-1, 1)\n",
    "plt.ylim(0, 1)\n",
    "plt.xlabel('State')\n",
    "plt.ylabel('Time')\n",
    "plt.title('Demonstration Trajectories')\n",
    "plt.grid(True)\n",
    "plt.show()"
   ]
  },
  {
   "cell_type": "code",
   "execution_count": null,
   "metadata": {},
   "outputs": [],
   "source": []
  }
 ],
 "metadata": {
  "kernelspec": {
   "display_name": ".venv",
   "language": "python",
   "name": "python3"
  },
  "language_info": {
   "codemirror_mode": {
    "name": "ipython",
    "version": 3
   },
   "file_extension": ".py",
   "mimetype": "text/x-python",
   "name": "python",
   "nbconvert_exporter": "python",
   "pygments_lexer": "ipython3",
   "version": "3.10.0"
  }
 },
 "nbformat": 4,
 "nbformat_minor": 2
}
